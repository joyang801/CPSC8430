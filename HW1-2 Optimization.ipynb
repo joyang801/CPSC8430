{
 "cells": [
  {
   "cell_type": "markdown",
   "id": "6fc36d8d-c0b0-4400-b360-be6470b6158b",
   "metadata": {},
   "source": [
    "# CPSC 8430 Deep Learning Homework 1-2: Optimization\n",
    " \n",
    "### Professor: Feng Luo\n",
    "\n",
    "\n",
    "**Student First Name, LAST NAME, CUID**:  \n",
    "\n",
    "Joy, YANG, #C91873986"
   ]
  },
  {
   "cell_type": "markdown",
   "id": "c7ae5ce1-6415-42de-b7fa-4e4e564d3ed7",
   "metadata": {},
   "source": [
    "### Three Subtask\n",
    "- Visualize the optimization process.\n",
    "- Observe gradient norm during training.\n",
    "- What happens when gradient is almost zero?\n",
    "- Train on designed function, MNIST or CIFAR-10\n"
   ]
  },
  {
   "cell_type": "markdown",
   "id": "5a54dea9-6b2a-42c7-92b5-f4f377feb426",
   "metadata": {},
   "source": [
    "### Requirement\n",
    "- Collect weights of the model every n epochs.\n",
    "- Also collect the weights of the model of different training events.\n",
    "- Record the accuracy (loss) corresponding to the collected parameters.\n",
    "- Plot the above results on a figure."
   ]
  },
  {
   "cell_type": "markdown",
   "id": "ffb5e98d-0d07-4735-9ac9-f5bed6beac72",
   "metadata": {},
   "source": [
    "### Visualize the Optimization Process"
   ]
  },
  {
   "cell_type": "code",
   "execution_count": 1,
   "id": "d2f18b45-10d5-4191-b1b0-434669ddad5a",
   "metadata": {},
   "outputs": [],
   "source": [
    "import torch\n",
    "import torch.nn as nn\n",
    "import torch.optim as optim\n",
    "from torchvision import datasets, transforms\n",
    "from sklearn.decomposition import PCA\n",
    "import matplotlib.pyplot as plt\n",
    "import numpy as np\n",
    "from tqdm import tqdm\n",
    "\n",
    "import torch.nn.functional as F\n",
    "\n",
    "\n",
    "import copy\n",
    "\n",
    "\n",
    "from sklearn.decomposition import PCA \n",
    "import numpy as np\n",
    "from matplotlib import pyplot as plt\n"
   ]
  },
  {
   "cell_type": "code",
   "execution_count": 2,
   "id": "d5bb895c-3d83-4e60-bb5c-32986293bc48",
   "metadata": {},
   "outputs": [
    {
     "name": "stdout",
     "output_type": "stream",
     "text": [
      "CUDA is available. You can run your code on GPU!\n"
     ]
    }
   ],
   "source": [
    "if torch.cuda.is_available():\n",
    "    print(\"CUDA is available. You can run your code on GPU!\")\n",
    "else:\n",
    "    print(\"CUDA is not available. Running on CPU instead.\")"
   ]
  },
  {
   "cell_type": "code",
   "execution_count": 3,
   "id": "807b979e-b82c-4583-b9f4-60765c6aa65c",
   "metadata": {},
   "outputs": [
    {
     "name": "stdout",
     "output_type": "stream",
     "text": [
      "cuda\n"
     ]
    }
   ],
   "source": [
    "device = torch.device(\"cuda\" if torch.cuda.is_available() else \"cpu\")\n",
    "print(device)"
   ]
  },
  {
   "cell_type": "code",
   "execution_count": 4,
   "id": "469bc15b-b27f-4232-93a3-9042ce0cfb85",
   "metadata": {},
   "outputs": [],
   "source": [
    "# Load MNIST\n",
    "transform = transforms.Compose([transforms.ToTensor(), transforms.Normalize((0.5,), (0.5,))])\n",
    "\n",
    "train_dataset = datasets.MNIST(root='./data', train=True, download=True, transform=transform)\n",
    "train_loader = torch.utils.data.DataLoader(train_dataset, batch_size=128, shuffle=True)"
   ]
  },
  {
   "cell_type": "code",
   "execution_count": 5,
   "id": "848be2d6-f2da-49ea-a99f-bc76fe2b051d",
   "metadata": {},
   "outputs": [],
   "source": [
    "# Define the DNN model\n",
    "class DNNModel(nn.Module):\n",
    "    def __init__(self):\n",
    "        super().__init__()\n",
    "        self.fc1 = nn.Linear(784, 128)\n",
    "        self.fc2 = nn.Linear(128, 32)\n",
    "        self.fc3 = nn.Linear(32, 10)\n",
    "\n",
    "    def forward(self, x):\n",
    "        x = nn.functional.relu(self.fc1(x))\n",
    "        x = nn.functional.relu(self.fc2(x))\n",
    "        x = self.fc3(x)\n",
    "        return x"
   ]
  },
  {
   "cell_type": "code",
   "execution_count": 6,
   "id": "f84a85a0-f645-4748-a667-d8393ea10633",
   "metadata": {},
   "outputs": [
    {
     "name": "stdout",
     "output_type": "stream",
     "text": [
      "0\n"
     ]
    },
    {
     "name": "stderr",
     "output_type": "stream",
     "text": [
      "                                                              \r"
     ]
    },
    {
     "name": "stdout",
     "output_type": "stream",
     "text": [
      "1\n"
     ]
    },
    {
     "name": "stderr",
     "output_type": "stream",
     "text": [
      "                                                              \r"
     ]
    },
    {
     "name": "stdout",
     "output_type": "stream",
     "text": [
      "2\n"
     ]
    },
    {
     "name": "stderr",
     "output_type": "stream",
     "text": [
      "                                                              \r"
     ]
    },
    {
     "name": "stdout",
     "output_type": "stream",
     "text": [
      "3\n"
     ]
    },
    {
     "name": "stderr",
     "output_type": "stream",
     "text": [
      "                                                              \r"
     ]
    },
    {
     "name": "stdout",
     "output_type": "stream",
     "text": [
      "4\n"
     ]
    },
    {
     "name": "stderr",
     "output_type": "stream",
     "text": [
      "                                                              \r"
     ]
    },
    {
     "name": "stdout",
     "output_type": "stream",
     "text": [
      "5\n"
     ]
    },
    {
     "name": "stderr",
     "output_type": "stream",
     "text": [
      "                                                              \r"
     ]
    },
    {
     "name": "stdout",
     "output_type": "stream",
     "text": [
      "6\n"
     ]
    },
    {
     "name": "stderr",
     "output_type": "stream",
     "text": [
      "                                                              \r"
     ]
    },
    {
     "name": "stdout",
     "output_type": "stream",
     "text": [
      "7\n"
     ]
    },
    {
     "name": "stderr",
     "output_type": "stream",
     "text": [
      "                                                              \r"
     ]
    }
   ],
   "source": [
    "# Training Function and Weight Collection\n",
    "train_times = 8\n",
    "num_epochs = 50\n",
    "\n",
    "grad_all = {}\n",
    "loss_all = {}\n",
    "weights_all = {}\n",
    "\n",
    "for time in range(train_times):\n",
    "    print(time)\n",
    "\n",
    "    model = DNNModel()\n",
    "    criterion = nn.CrossEntropyLoss()\n",
    "    optimizer = torch.optim.Adam(model.parameters(), lr = 0.001)\n",
    "\n",
    "    loss_list = []\n",
    "    grad_list = []\n",
    "    weights_list = []\n",
    "\n",
    "    for epoch in range(num_epochs):\n",
    "\n",
    "        loss_per_epoch = 0\n",
    "        model = model.to(device)\n",
    "        model.train()\n",
    "\n",
    "        # for i, (images, labels) in enumerate(train_loader):\n",
    "        for images, labels in tqdm(train_loader, desc=f\"Epoch {epoch+1}/{num_epochs}\", leave=False):\n",
    "            images = images.to(device).reshape(-1, 28*28)\n",
    "            labels = labels.to(device)\n",
    "\n",
    "            # forward pass\n",
    "            outputs = model(images)\n",
    "            loss = criterion(outputs, labels)\n",
    "\n",
    "            # backward and optimize\n",
    "            optimizer.zero_grad()\n",
    "            loss.backward()\n",
    "            optimizer.step()\n",
    "\n",
    "            loss_per_epoch += loss.item() / len(train_loader)\n",
    "\n",
    "\n",
    "        if epoch % 3 == 0:\n",
    "            # store params and loss\n",
    "            weights_list.append(copy.deepcopy(model.state_dict()))\n",
    "            loss_list.append(loss_per_epoch)\n",
    "            \n",
    "            # compute grad L2 norm\n",
    "            grad_all_epoch = 0.0\n",
    "            for p in model.parameters(): \n",
    "                grad = 0.0\n",
    "                if p.grad is not None:\n",
    "                    grad = (p.grad.cpu().data.numpy() ** 2).sum()\n",
    "                grad_all_epoch += grad\n",
    "            grad_norm = grad_all_epoch ** 0.5\n",
    "            \n",
    "            # store grad norm\n",
    "            grad_list.append(grad_norm)\n",
    "\n",
    "    grad_all[time] = grad_list\n",
    "    loss_all[time] = loss_list\n",
    "    weights_all[time] = weights_list\n"
   ]
  },
  {
   "cell_type": "code",
   "execution_count": 7,
   "id": "20e0a149-fedb-4cf2-a165-7f8858903083",
   "metadata": {},
   "outputs": [],
   "source": [
    "# Perform PCA and Plotting\n",
    "n_samples_per_session = len(weights_all[0])\n",
    "n_samples = train_times * n_samples_per_session \n",
    "n_features = weights_all[0][0]['fc1.weight'].cpu().numpy().flatten().shape[0] \n",
    "\n",
    "\n",
    "PCA_input_data = np.zeros((n_samples, n_features))\n",
    "\n",
    "#Training and Plotting Process\n",
    "for t in range(train_times):\n",
    "    for i in range(n_samples_per_session): \n",
    "        PCA_input_data[t * n_samples_per_session + i, :] = weights_all[t][i]['fc1.weight'].flatten().cpu().numpy()\n",
    "\n",
    "\n",
    "reduced_data = PCA(n_components = 2).fit_transform(PCA_input_data)\n"
   ]
  },
  {
   "cell_type": "code",
   "execution_count": 8,
   "id": "36c783b1-4c71-4f08-8b4f-7fc0f6cf67e2",
   "metadata": {},
   "outputs": [
    {
     "data": {
      "image/png": "[encoded data removed]",
      "text/plain": [
       "<Figure size 1000x800 with 1 Axes>"
      ]
     },
     "metadata": {},
     "output_type": "display_data"
    }
   ],
   "source": [
    "plt.figure(figsize=(10, 8))\n",
    "colors = [\"red\", \"orange\", \"yellow\", \"green\", \"cyan\", \"blue\", \"magenta\", \"brown\"]\n",
    "for t in range(train_times):\n",
    "    start_idx = t * n_samples_per_session\n",
    "    end_idx = (t + 1) * n_samples_per_session\n",
    "    x_coords = reduced_data.T[0][start_idx:end_idx]\n",
    "    y_coords = reduced_data.T[1][start_idx:end_idx]\n",
    "    plt.scatter(x_coords, y_coords, color=colors[t], marker='o', label=f\"Training #{t+1}\")\n",
    "\n",
    "plt.legend()\n",
    "plt.title(\"2D PCA-reduced Weight Samples for One Layer\")\n",
    "plt.xlabel(\"PCA Component 1\")\n",
    "plt.ylabel(\"PCA Component 2\")\n",
    "plt.show()"
   ]
  },
  {
   "cell_type": "code",
   "execution_count": 9,
   "id": "8e528774-39d8-4c03-9530-f9343139dfc7",
   "metadata": {},
   "outputs": [],
   "source": [
    "n_samples_per_session = len(weights_all[0])\n",
    "n_samples = train_times * n_samples_per_session \n",
    "n_features = weights_all[0][0]['fc1.weight'].cpu().numpy().flatten().shape[0] + weights_all[0][0]['fc2.weight'].cpu().numpy().flatten().shape[0] + weights_all[0][0]['fc3.weight'].cpu().numpy().flatten().shape[0]\n",
    "\n",
    "\n",
    "PCA_input_data = np.zeros((n_samples, n_features))\n",
    "\n",
    "# populate high-dim input tensor \n",
    "for t in range(train_times):\n",
    "    for i in range(n_samples_per_session): \n",
    "        PCA_input_data[t * n_samples_per_session + i, :] = np.append(weights_all[t][i]['fc1.weight'].flatten().cpu().numpy(), np.append(weights_all[t][i]['fc2.weight'].flatten().cpu().numpy(),weights_all[t][i]['fc3.weight'].flatten().cpu().numpy()))\n",
    "\n",
    "reduced_data = PCA(n_components = 2).fit_transform(PCA_input_data)\n",
    "\n"
   ]
  },
  {
   "cell_type": "code",
   "execution_count": 1,
   "id": "47529834-fdec-4df4-9528-34472f15b682",
   "metadata": {},
   "outputs": [
    {
     "ename": "NameError",
     "evalue": "name 'plt' is not defined",
     "output_type": "error",
     "traceback": [
      "\u001b[0;31m---------------------------------------------------------------------------\u001b[0m",
      "\u001b[0;31mNameError\u001b[0m                                 Traceback (most recent call last)",
      "Cell \u001b[0;32mIn[1], line 1\u001b[0m\n\u001b[0;32m----> 1\u001b[0m \u001b[43mplt\u001b[49m\u001b[38;5;241m.\u001b[39mfigure(figsize\u001b[38;5;241m=\u001b[39m(\u001b[38;5;241m10\u001b[39m, \u001b[38;5;241m8\u001b[39m))\u001b[38;5;66;03m# Define a list of colors for plotting\u001b[39;00m\n\u001b[1;32m      2\u001b[0m colors \u001b[38;5;241m=\u001b[39m [\u001b[38;5;124m\"\u001b[39m\u001b[38;5;124mred\u001b[39m\u001b[38;5;124m\"\u001b[39m, \u001b[38;5;124m\"\u001b[39m\u001b[38;5;124morange\u001b[39m\u001b[38;5;124m\"\u001b[39m, \u001b[38;5;124m\"\u001b[39m\u001b[38;5;124myellow\u001b[39m\u001b[38;5;124m\"\u001b[39m, \u001b[38;5;124m\"\u001b[39m\u001b[38;5;124mgreen\u001b[39m\u001b[38;5;124m\"\u001b[39m, \u001b[38;5;124m\"\u001b[39m\u001b[38;5;124mcyan\u001b[39m\u001b[38;5;124m\"\u001b[39m, \u001b[38;5;124m\"\u001b[39m\u001b[38;5;124mblue\u001b[39m\u001b[38;5;124m\"\u001b[39m, \u001b[38;5;124m\"\u001b[39m\u001b[38;5;124mmagenta\u001b[39m\u001b[38;5;124m\"\u001b[39m, \u001b[38;5;124m\"\u001b[39m\u001b[38;5;124mbrown\u001b[39m\u001b[38;5;124m\"\u001b[39m]\n\u001b[1;32m      4\u001b[0m \u001b[38;5;66;03m# Create a scatter plot for each training session\u001b[39;00m\n",
      "\u001b[0;31mNameError\u001b[0m: name 'plt' is not defined"
     ]
    }
   ],
   "source": [
    "plt.figure(figsize=(10, 8))# Define a list of colors for plotting\n",
    "colors = [\"red\", \"orange\", \"yellow\", \"green\", \"cyan\", \"blue\", \"magenta\", \"brown\"]\n",
    "\n",
    "# Create a scatter plot for each training session\n",
    "for t in range(train_times):\n",
    "    # Calculate the index range for the current training session\n",
    "    idx_range = slice(t * n_samples_per_session, (t + 1) * n_samples_per_session)\n",
    "\n",
    "    # Scatter plot for the current session's PCA-reduced weights\n",
    "    plt.scatter(reduced_data[idx_range, 0], reduced_data[idx_range, 1], color=colors[t], marker='o', label=f\"Train #{t + 1}\")\n",
    "\n",
    "# Add a legend to the plot\n",
    "plt.legend()\n",
    "\n",
    "# Set the title of the plot\n",
    "plt.title(\"2D PCA-Reduced Weight Samples for All Layers\")\n",
    "plt.xlabel(\"All Layer\")\n",
    "# Display the plot\n",
    "plt.show()\n"
   ]
  },
  {
   "cell_type": "code",
   "execution_count": null,
   "id": "20f1c611-2be7-4256-a799-da0a5c7b75c5",
   "metadata": {},
   "outputs": [],
   "source": []
  },
  {
   "cell_type": "code",
   "execution_count": null,
   "id": "7fcac493-ba8b-42b9-a296-49866d24f778",
   "metadata": {},
   "outputs": [],
   "source": []
  }
 ],
 "metadata": {
  "kernelspec": {
   "display_name": "joy",
   "language": "python",
   "name": "joy"
  },
  "language_info": {
   "codemirror_mode": {
    "name": "ipython",
    "version": 3
   },
   "file_extension": ".py",
   "mimetype": "text/x-python",
   "name": "python",
   "nbconvert_exporter": "python",
   "pygments_lexer": "ipython3",
   "version": "3.10.10"
  }
 },
 "nbformat": 4,
 "nbformat_minor": 5
}
