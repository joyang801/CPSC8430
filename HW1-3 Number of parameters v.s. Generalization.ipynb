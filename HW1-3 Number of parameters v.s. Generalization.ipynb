{
 "cells": [
  {
   "cell_type": "markdown",
   "id": "d2bd54bd-8432-44bc-9570-01786f6877d6",
   "metadata": {},
   "source": [
    "### Number of Parameters v.s. Generalization"
   ]
  },
  {
   "cell_type": "code",
   "execution_count": 1,
   "id": "81237125-b5d1-4257-b7f2-47bbde31206b",
   "metadata": {},
   "outputs": [],
   "source": [
    "import torch\n",
    "import torch.nn as nn\n",
    "import torch.optim as optim\n",
    "import torchvision\n",
    "import torchvision.transforms as transforms\n",
    "import matplotlib.pyplot as plt\n",
    "from tqdm import tqdm"
   ]
  },
  {
   "cell_type": "code",
   "execution_count": 2,
   "id": "4e568343-665d-4d39-92d6-350730fdee95",
   "metadata": {},
   "outputs": [
    {
     "name": "stdout",
     "output_type": "stream",
     "text": [
      "CUDA is available. You can run your code on GPU!\n"
     ]
    }
   ],
   "source": [
    "if torch.cuda.is_available():\n",
    "    print(\"CUDA is available. You can run your code on GPU!\")\n",
    "else:\n",
    "    print(\"CUDA is not available. Running on CPU instead.\")"
   ]
  },
  {
   "cell_type": "code",
   "execution_count": 3,
   "id": "d561be0c-9b86-4882-90f6-d13212fe305d",
   "metadata": {},
   "outputs": [
    {
     "name": "stdout",
     "output_type": "stream",
     "text": [
      "cuda\n"
     ]
    }
   ],
   "source": [
    "device = torch.device(\"cuda\" if torch.cuda.is_available() else \"cpu\")\n",
    "print(device)"
   ]
  },
  {
   "cell_type": "code",
   "execution_count": 4,
   "id": "9be9fa67-5f7c-420a-9fc8-10f7c38850ea",
   "metadata": {},
   "outputs": [],
   "source": [
    "# Data loading and transformation\n",
    "batch_size = 64  \n",
    "trainset = torchvision.datasets.MNIST(root='./data', train=True, download=True, transform=transforms.Compose([transforms.ToTensor()]))\n",
    "train_loader = torch.utils.data.DataLoader(trainset, batch_size=batch_size, shuffle=True)\n",
    "\n",
    "testset = torchvision.datasets.MNIST(root='./data', train=False, download=True, transform=transforms.Compose([transforms.ToTensor()]))\n",
    "test_loader = torch.utils.data.DataLoader(testset, batch_size=batch_size, shuffle=True)"
   ]
  },
  {
   "cell_type": "code",
   "execution_count": 5,
   "id": "a1a884d3-2606-483e-9a57-5a87e6816015",
   "metadata": {},
   "outputs": [],
   "source": [
    "class Model0(nn.Module):\n",
    "    def __init__(self):\n",
    "        super().__init__()\n",
    "        self.fc1 = nn.Linear(784, 16)\n",
    "        self.fc2 = nn.Linear(16, 10)\n",
    "\n",
    "\n",
    "    def forward(self, x):\n",
    "        x = nn.functional.relu(self.fc1(x))\n",
    "        x = self.fc2(x)\n",
    "        return x\n",
    "\n",
    "class Model1(nn.Module):\n",
    "    def __init__(self):\n",
    "        super().__init__()\n",
    "        self.fc1 = nn.Linear(784, 32)\n",
    "        self.fc2 = nn.Linear(32, 16)\n",
    "        self.fc3 = nn.Linear(16, 10)\n",
    "\n",
    "    def forward(self, x):\n",
    "        x = nn.functional.relu(self.fc1(x))\n",
    "        x = nn.functional.relu(self.fc2(x))\n",
    "        x = self.fc3(x)\n",
    "        return x\n",
    "    \n",
    "class Model2(nn.Module):\n",
    "    def __init__(self):\n",
    "        super().__init__()\n",
    "        self.fc1 = nn.Linear(784, 48)\n",
    "        self.fc2 = nn.Linear(48, 16)\n",
    "        self.fc3 = nn.Linear(16, 10)\n",
    "\n",
    "    def forward(self, x):\n",
    "        x = nn.functional.relu(self.fc1(x))\n",
    "        x = nn.functional.relu(self.fc2(x))\n",
    "        x = self.fc3(x)\n",
    "        return x\n",
    "\n",
    "class Model3(nn.Module):\n",
    "    def __init__(self):\n",
    "        super().__init__()\n",
    "        self.fc1 = nn.Linear(784, 64)\n",
    "        self.fc2 = nn.Linear(64, 16)\n",
    "        self.fc3 = nn.Linear(16, 10)\n",
    "\n",
    "    def forward(self, x):\n",
    "        x = nn.functional.relu(self.fc1(x))\n",
    "        x = nn.functional.relu(self.fc2(x))\n",
    "        x = self.fc3(x)\n",
    "        return x\n",
    "    \n",
    "class Model4(nn.Module):\n",
    "    def __init__(self):\n",
    "        super().__init__()\n",
    "        self.fc1 = nn.Linear(784, 80)\n",
    "        self.fc2 = nn.Linear(80, 16)\n",
    "        self.fc3 = nn.Linear(16, 10)\n",
    "\n",
    "    def forward(self, x):\n",
    "        x = nn.functional.relu(self.fc1(x))\n",
    "        x = nn.functional.relu(self.fc2(x))\n",
    "        x = self.fc3(x)\n",
    "        return x\n",
    "    \n",
    "\n",
    "class Model5(nn.Module):\n",
    "    def __init__(self):\n",
    "        super().__init__()\n",
    "        self.fc1 = nn.Linear(784, 96)\n",
    "        self.fc2 = nn.Linear(96, 16)\n",
    "        self.fc3 = nn.Linear(16, 10)\n",
    "\n",
    "    def forward(self, x):\n",
    "        x = nn.functional.relu(self.fc1(x))\n",
    "        x = nn.functional.relu(self.fc2(x))\n",
    "        x = self.fc3(x)\n",
    "        return x\n",
    "\n",
    "class Model6(nn.Module):\n",
    "    def __init__(self):\n",
    "        super().__init__()\n",
    "        self.fc1 = nn.Linear(784, 112)\n",
    "        self.fc2 = nn.Linear(112, 16)\n",
    "        self.fc3 = nn.Linear(16, 10)\n",
    "\n",
    "    def forward(self, x):\n",
    "        x = nn.functional.relu(self.fc1(x))\n",
    "        x = nn.functional.relu(self.fc2(x))\n",
    "        x = self.fc3(x)\n",
    "        return x\n",
    "\n",
    "\n",
    "class Model7(nn.Module):\n",
    "    def __init__(self):\n",
    "        super().__init__()\n",
    "        self.fc1 = nn.Linear(784, 128)\n",
    "        self.fc2 = nn.Linear(128, 16)\n",
    "        self.fc3 = nn.Linear(16, 10)\n",
    "\n",
    "    def forward(self, x):\n",
    "        x = nn.functional.relu(self.fc1(x))\n",
    "        x = nn.functional.relu(self.fc2(x))\n",
    "        x = self.fc3(x)\n",
    "        return x\n",
    "    \n",
    "class Model8(nn.Module):\n",
    "    def __init__(self):\n",
    "        super().__init__()\n",
    "        self.fc1 = nn.Linear(784, 128)\n",
    "        self.fc2 = nn.Linear(128, 32)\n",
    "        self.fc3 = nn.Linear(32, 10)\n",
    "\n",
    "    def forward(self, x):\n",
    "        x = nn.functional.relu(self.fc1(x))\n",
    "        x = nn.functional.relu(self.fc2(x))\n",
    "        x = self.fc3(x)\n",
    "        return x\n",
    "\n",
    "\n",
    "\n",
    "class Model9(nn.Module):\n",
    "    def __init__(self):\n",
    "        super().__init__()\n",
    "        self.fc1 = nn.Linear(784, 128)\n",
    "        self.fc2 = nn.Linear(128, 64)\n",
    "        self.fc3 = nn.Linear(64, 10)\n",
    "\n",
    "    def forward(self, x):\n",
    "        x = nn.functional.relu(self.fc1(x))\n",
    "        x = nn.functional.relu(self.fc2(x))\n",
    "        x = self.fc3(x)\n",
    "        return x\n",
    "    \n",
    "model_list = [Model0(), Model1(), Model2(), Model3(), Model4(), Model5(), Model6(), Model7(), Model8(), Model9()]\n",
    "# model_list = [Model0(), Model1()]"
   ]
  },
  {
   "cell_type": "code",
   "execution_count": 6,
   "id": "1246781e-288e-4816-ad33-e7629ce1ff73",
   "metadata": {},
   "outputs": [],
   "source": [
    "def params_count(model):\n",
    "    return sum(params.numel() for params in model.parameters() if params.requires_grad)\n",
    "\n",
    "def test_test_data(model):\n",
    "    correct = 0\n",
    "    total = 0\n",
    "    with torch.no_grad():\n",
    "        for data in test_loader:\n",
    "            images,labels = data\n",
    "            images, labels = images.to(device).reshape(-1, 28*28), labels.to(device)\n",
    "            outputs = model(images)\n",
    "            _, predicted = torch.max(outputs.data,dim=1)      \n",
    "            total += labels.size(0)\n",
    "            correct += (predicted==labels).sum().item()\n",
    "            \n",
    "    return correct/total\n",
    "\n",
    "def test_train_data(model):\n",
    "    correct = 0\n",
    "    total = 0\n",
    "    with torch.no_grad():\n",
    "        for data in train_loader:\n",
    "            images,labels = data\n",
    "            images, labels = images.to(device).reshape(-1, 28*28), labels.to(device)\n",
    "            outputs = model(images)\n",
    "            _, predicted = torch.max(outputs.data,dim=1)      \n",
    "            total += labels.size(0)\n",
    "            correct += (predicted==labels).sum().item()\n",
    "            \n",
    "    return correct/total"
   ]
  },
  {
   "cell_type": "code",
   "execution_count": 7,
   "id": "8d511064-9fe2-414e-9b0a-61dac51884fb",
   "metadata": {},
   "outputs": [],
   "source": [
    "def evaluate_test_loss(dataloader, model): \n",
    "    loss_fn = nn.CrossEntropyLoss()\n",
    "    \n",
    "    model.eval()\n",
    "    \n",
    "    # train and store epoch training loss\n",
    "    epoch_test_loss = 0.0\n",
    "    for batch, (X_test, y_test) in enumerate(dataloader): \n",
    "        X_test = X_test.to(device).reshape(-1, 28*28)\n",
    "        y_test = y_test.to(device)\n",
    "\n",
    "        # compute model predictions and loss\n",
    "        y_pred = model(X_test)\n",
    "        loss = loss_fn(y_pred, y_test)\n",
    "\n",
    "        # update epoch loss with batch loss (epoch loss := mean batch loss throughout all batches)\n",
    "        epoch_test_loss += loss.item() / len(dataloader)\n",
    "    \n",
    "    # return epoch loss\n",
    "    return epoch_test_loss"
   ]
  },
  {
   "cell_type": "code",
   "execution_count": 8,
   "id": "d9869f7e-64b2-4fc9-b9ee-84803958943d",
   "metadata": {},
   "outputs": [
    {
     "name": "stderr",
     "output_type": "stream",
     "text": [
      "100%|██████████| 10/10 [18:50<00:00, 113.02s/it]\n"
     ]
    }
   ],
   "source": [
    "train_loss_list = []\n",
    "test_loss_list = []\n",
    "train_acc_list = []\n",
    "test_acc_list = []\n",
    "params_list = []\n",
    "\n",
    "for model in tqdm(model_list):    \n",
    "    params_list.append(sum(p.numel() for p in model.parameters()))\n",
    "    criterion = nn.CrossEntropyLoss()\n",
    "    optimizer = torch.optim.Adam(model.parameters(), lr=0.001)\n",
    "    num_epochs = 20\n",
    "\n",
    "    # Train the model\n",
    "    # for epoch in tqdm(range(num_epochs), desc='Epochs', unit='epoch'):\n",
    "    for epoch in range(num_epochs):\n",
    "        model = model.to(device)\n",
    "        model.train()\n",
    "        loss_per_epoch = 0\n",
    "\n",
    "        # Batch processing with progress bar\n",
    "        for images, labels in train_loader:\n",
    "            images = images.to(device).reshape(-1, 28*28)\n",
    "            labels = labels.to(device)\n",
    "\n",
    "            # Forward pass\n",
    "            outputs = model(images)\n",
    "            loss = criterion(outputs, labels)\n",
    "\n",
    "            # Backward and optimize\n",
    "            optimizer.zero_grad()\n",
    "            loss.backward()\n",
    "            optimizer.step()\n",
    "\n",
    "            loss_per_epoch += loss.item()\n",
    "\n",
    "        # Normalize the loss by the number of batches\n",
    "        loss_per_epoch /= len(train_loader)\n",
    "        \n",
    "        # End of epoch\n",
    "        # tqdm.write(f'Epoch {epoch+1}/{num_epochs}, Loss: {loss_per_epoch:.4f}')\n",
    "\n",
    "\n",
    "    # Record the performance after training\n",
    "    train_loss_list.append(loss_per_epoch)\n",
    "    test_loss_list.append(evaluate_test_loss(test_loader, model))\n",
    "    train_acc_list.append(test_train_data(model))\n",
    "    test_acc_list.append(test_test_data(model))"
   ]
  },
  {
   "cell_type": "code",
   "execution_count": 25,
   "id": "40f9d063-38c5-408d-af74-c0ad6f8b21b7",
   "metadata": {},
   "outputs": [
    {
     "data": {
      "image/png": "[encoded data removed]",
      "text/plain": [
       "<Figure size 500x400 with 1 Axes>"
      ]
     },
     "metadata": {},
     "output_type": "display_data"
    }
   ],
   "source": [
    "# Plotting Accuracies\n",
    "plt.figure(figsize=(5,4))\n",
    "plt.plot(params_list, train_acc_list, color='green', marker='o', linestyle='', label=\"train accuracy\")\n",
    "plt.plot(params_list, test_acc_list, color='orange', marker='o', linestyle='', label=\"test accuracy\")\n",
    "plt.legend()\n",
    "plt.xlabel(\"Parameters\")\n",
    "plt.ylabel(\"Accuracy\")\n",
    "plt.title(\"Model Accuracy\")\n",
    "plt.show()"
   ]
  },
  {
   "cell_type": "code",
   "execution_count": 26,
   "id": "751344f7-ed34-41d1-a7fd-25340bc433bb",
   "metadata": {},
   "outputs": [
    {
     "data": {
      "image/png": "[encoded data removed]",
      "text/plain": [
       "<Figure size 500x400 with 1 Axes>"
      ]
     },
     "metadata": {},
     "output_type": "display_data"
    }
   ],
   "source": [
    "# Plotting Loss\n",
    "plt.figure(figsize=(5,4))\n",
    "plt.plot(params_list, train_loss_list, color='green', marker='o', linestyle='', label = \"train loss\")\n",
    "plt.plot(params_list, test_loss_list, color='orange', marker='o', linestyle='',label = \"test loss\")\n",
    "plt.legend()\n",
    "plt.xlabel(\"Parameters\")\n",
    "plt.ylabel(\"Loss\")\n",
    "plt.title(\"Model Loss\")\n",
    "plt.show()"
   ]
  },
  {
   "cell_type": "code",
   "execution_count": null,
   "id": "d32ca4e9-49cf-40ef-b002-c0ab17e8516a",
   "metadata": {},
   "outputs": [],
   "source": []
  }
 ],
 "metadata": {
  "kernelspec": {
   "display_name": "joy",
   "language": "python",
   "name": "joy"
  },
  "language_info": {
   "codemirror_mode": {
    "name": "ipython",
    "version": 3
   },
   "file_extension": ".py",
   "mimetype": "text/x-python",
   "name": "python",
   "nbconvert_exporter": "python",
   "pygments_lexer": "ipython3",
   "version": "3.10.10"
  }
 },
 "nbformat": 4,
 "nbformat_minor": 5
}
